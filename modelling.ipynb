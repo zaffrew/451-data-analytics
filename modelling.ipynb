{
 "cells": [
  {
   "cell_type": "code",
   "execution_count": 106,
   "metadata": {},
   "outputs": [],
   "source": [
    "import pandas as pd\n",
    "import numpy as np"
   ]
  },
  {
   "cell_type": "code",
   "execution_count": 107,
   "metadata": {},
   "outputs": [],
   "source": [
    "data = pd.read_csv('data/ML_ready.csv', index_col=0)"
   ]
  },
  {
   "cell_type": "code",
   "execution_count": 108,
   "metadata": {},
   "outputs": [
    {
     "data": {
      "text/html": [
       "<div>\n",
       "<style scoped>\n",
       "    .dataframe tbody tr th:only-of-type {\n",
       "        vertical-align: middle;\n",
       "    }\n",
       "\n",
       "    .dataframe tbody tr th {\n",
       "        vertical-align: top;\n",
       "    }\n",
       "\n",
       "    .dataframe thead th {\n",
       "        text-align: right;\n",
       "    }\n",
       "</style>\n",
       "<table border=\"1\" class=\"dataframe\">\n",
       "  <thead>\n",
       "    <tr style=\"text-align: right;\">\n",
       "      <th></th>\n",
       "      <th>Organization</th>\n",
       "      <th>Capital Program</th>\n",
       "      <th>Program Subclass</th>\n",
       "      <th>Project Title</th>\n",
       "      <th>Project Planning From</th>\n",
       "      <th>Project Planning To</th>\n",
       "      <th>Planned Construction From</th>\n",
       "      <th>Planned Construction To</th>\n",
       "      <th>Project Description</th>\n",
       "      <th>Project URL</th>\n",
       "      <th>...</th>\n",
       "      <th>start</th>\n",
       "      <th>end</th>\n",
       "      <th>duration</th>\n",
       "      <th>prior</th>\n",
       "      <th>prior_requests</th>\n",
       "      <th>prior_collisions</th>\n",
       "      <th>prior_traffic</th>\n",
       "      <th>start_year</th>\n",
       "      <th>prior_collisions4</th>\n",
       "      <th>evidence</th>\n",
       "    </tr>\n",
       "  </thead>\n",
       "  <tbody>\n",
       "    <tr>\n",
       "      <th>0</th>\n",
       "      <td>Transportation Services</td>\n",
       "      <td>Active Transportation</td>\n",
       "      <td>Sidewalk Rehabilitation</td>\n",
       "      <td>Stephen St Sidewalk Rehabilitation</td>\n",
       "      <td>2019-01-01</td>\n",
       "      <td>2019-12-31</td>\n",
       "      <td>2019-01-01</td>\n",
       "      <td>2019-12-31</td>\n",
       "      <td>Stephen St Sidewalk Rehabilitation</td>\n",
       "      <td>NaN</td>\n",
       "      <td>...</td>\n",
       "      <td>2019-01-01</td>\n",
       "      <td>2019-12-31</td>\n",
       "      <td>364 days 00:00:00.000000000</td>\n",
       "      <td>2018-01-01</td>\n",
       "      <td>0</td>\n",
       "      <td>612</td>\n",
       "      <td>5185.737705</td>\n",
       "      <td>2019</td>\n",
       "      <td>2448</td>\n",
       "      <td>0.0</td>\n",
       "    </tr>\n",
       "    <tr>\n",
       "      <th>1</th>\n",
       "      <td>City Engineering</td>\n",
       "      <td>Road Rehabilitation</td>\n",
       "      <td>Local Repair / Preventative Maintenance</td>\n",
       "      <td>Mowat Ave Road Repair</td>\n",
       "      <td>2019-01-01</td>\n",
       "      <td>2019-12-31</td>\n",
       "      <td>2019-01-01</td>\n",
       "      <td>2019-12-31</td>\n",
       "      <td>Catch basin repair, drainage improvement and p...</td>\n",
       "      <td>NaN</td>\n",
       "      <td>...</td>\n",
       "      <td>2019-01-01</td>\n",
       "      <td>2019-12-31</td>\n",
       "      <td>364 days 00:00:00.000000000</td>\n",
       "      <td>2018-01-01</td>\n",
       "      <td>0</td>\n",
       "      <td>340</td>\n",
       "      <td>7113.609756</td>\n",
       "      <td>2019</td>\n",
       "      <td>1360</td>\n",
       "      <td>0.0</td>\n",
       "    </tr>\n",
       "    <tr>\n",
       "      <th>2</th>\n",
       "      <td>Utilities Kingston</td>\n",
       "      <td>Utilities Construction</td>\n",
       "      <td>Electrical</td>\n",
       "      <td>Electric - Pole Line Design - Bagot Street</td>\n",
       "      <td>2016-01-01</td>\n",
       "      <td>2016-12-31</td>\n",
       "      <td>2017-01-01</td>\n",
       "      <td>2017-12-31</td>\n",
       "      <td>Pole line design on Bagot St. from Barrack to ...</td>\n",
       "      <td>NaN</td>\n",
       "      <td>...</td>\n",
       "      <td>2017-01-01</td>\n",
       "      <td>2017-12-31</td>\n",
       "      <td>364 days 00:00:00.000000000</td>\n",
       "      <td>2016-01-01</td>\n",
       "      <td>0</td>\n",
       "      <td>461</td>\n",
       "      <td>5992.635294</td>\n",
       "      <td>2017</td>\n",
       "      <td>461</td>\n",
       "      <td>0.0</td>\n",
       "    </tr>\n",
       "    <tr>\n",
       "      <th>3</th>\n",
       "      <td>Utilities Kingston</td>\n",
       "      <td>Utilities Construction</td>\n",
       "      <td>Electrical</td>\n",
       "      <td>Electric - 5kV 204 Circuit Line Extension</td>\n",
       "      <td>NaN</td>\n",
       "      <td>NaN</td>\n",
       "      <td>2015-01-01</td>\n",
       "      <td>2015-12-31</td>\n",
       "      <td>Additional information to be provided by Utili...</td>\n",
       "      <td>NaN</td>\n",
       "      <td>...</td>\n",
       "      <td>2015-01-01</td>\n",
       "      <td>2015-12-31</td>\n",
       "      <td>364 days 00:00:00.000000000</td>\n",
       "      <td>2014-01-01</td>\n",
       "      <td>0</td>\n",
       "      <td>0</td>\n",
       "      <td>6430.750000</td>\n",
       "      <td>2015</td>\n",
       "      <td>0</td>\n",
       "      <td>0.0</td>\n",
       "    </tr>\n",
       "    <tr>\n",
       "      <th>4</th>\n",
       "      <td>Utilities Kingston</td>\n",
       "      <td>Utilties Rehabilitation</td>\n",
       "      <td>Water</td>\n",
       "      <td>2018 Watermain Relining Project</td>\n",
       "      <td>2017-01-01</td>\n",
       "      <td>2017-12-31</td>\n",
       "      <td>2018-01-01</td>\n",
       "      <td>2018-12-31</td>\n",
       "      <td>Watermain relining on Indian Rd, from Old Quar...</td>\n",
       "      <td>NaN</td>\n",
       "      <td>...</td>\n",
       "      <td>2018-01-01</td>\n",
       "      <td>2018-12-31</td>\n",
       "      <td>364 days 00:00:00.000000000</td>\n",
       "      <td>2017-01-01</td>\n",
       "      <td>0</td>\n",
       "      <td>289</td>\n",
       "      <td>10790.975610</td>\n",
       "      <td>2018</td>\n",
       "      <td>289</td>\n",
       "      <td>1.0</td>\n",
       "    </tr>\n",
       "  </tbody>\n",
       "</table>\n",
       "<p>5 rows × 26 columns</p>\n",
       "</div>"
      ],
      "text/plain": [
       "              Organization          Capital Program  \\\n",
       "0  Transportation Services    Active Transportation   \n",
       "1         City Engineering      Road Rehabilitation   \n",
       "2       Utilities Kingston   Utilities Construction   \n",
       "3       Utilities Kingston   Utilities Construction   \n",
       "4       Utilities Kingston  Utilties Rehabilitation   \n",
       "\n",
       "                          Program Subclass  \\\n",
       "0                  Sidewalk Rehabilitation   \n",
       "1  Local Repair / Preventative Maintenance   \n",
       "2                               Electrical   \n",
       "3                               Electrical   \n",
       "4                                    Water   \n",
       "\n",
       "                                Project Title Project Planning From  \\\n",
       "0          Stephen St Sidewalk Rehabilitation            2019-01-01   \n",
       "1                       Mowat Ave Road Repair            2019-01-01   \n",
       "2  Electric - Pole Line Design - Bagot Street            2016-01-01   \n",
       "3   Electric - 5kV 204 Circuit Line Extension                   NaN   \n",
       "4             2018 Watermain Relining Project            2017-01-01   \n",
       "\n",
       "  Project Planning To Planned Construction From Planned Construction To  \\\n",
       "0          2019-12-31                2019-01-01              2019-12-31   \n",
       "1          2019-12-31                2019-01-01              2019-12-31   \n",
       "2          2016-12-31                2017-01-01              2017-12-31   \n",
       "3                 NaN                2015-01-01              2015-12-31   \n",
       "4          2017-12-31                2018-01-01              2018-12-31   \n",
       "\n",
       "                                 Project Description Project URL  ...  \\\n",
       "0                 Stephen St Sidewalk Rehabilitation         NaN  ...   \n",
       "1  Catch basin repair, drainage improvement and p...         NaN  ...   \n",
       "2  Pole line design on Bagot St. from Barrack to ...         NaN  ...   \n",
       "3  Additional information to be provided by Utili...         NaN  ...   \n",
       "4  Watermain relining on Indian Rd, from Old Quar...         NaN  ...   \n",
       "\n",
       "        start         end                     duration       prior  \\\n",
       "0  2019-01-01  2019-12-31  364 days 00:00:00.000000000  2018-01-01   \n",
       "1  2019-01-01  2019-12-31  364 days 00:00:00.000000000  2018-01-01   \n",
       "2  2017-01-01  2017-12-31  364 days 00:00:00.000000000  2016-01-01   \n",
       "3  2015-01-01  2015-12-31  364 days 00:00:00.000000000  2014-01-01   \n",
       "4  2018-01-01  2018-12-31  364 days 00:00:00.000000000  2017-01-01   \n",
       "\n",
       "   prior_requests prior_collisions prior_traffic start_year prior_collisions4  \\\n",
       "0               0              612   5185.737705       2019              2448   \n",
       "1               0              340   7113.609756       2019              1360   \n",
       "2               0              461   5992.635294       2017               461   \n",
       "3               0                0   6430.750000       2015                 0   \n",
       "4               0              289  10790.975610       2018               289   \n",
       "\n",
       "  evidence  \n",
       "0      0.0  \n",
       "1      0.0  \n",
       "2      0.0  \n",
       "3      0.0  \n",
       "4      1.0  \n",
       "\n",
       "[5 rows x 26 columns]"
      ]
     },
     "execution_count": 108,
     "metadata": {},
     "output_type": "execute_result"
    }
   ],
   "source": [
    "data.head()"
   ]
  },
  {
   "cell_type": "code",
   "execution_count": 109,
   "metadata": {},
   "outputs": [
    {
     "data": {
      "text/plain": [
       "Index(['Organization', 'Capital Program', 'Program Subclass', 'Project Title',\n",
       "       'Project Planning From', 'Project Planning To',\n",
       "       'Planned Construction From', 'Planned Construction To',\n",
       "       'Project Description', 'Project URL', 'SDE ID', 'GeoJSON',\n",
       "       'geo_point_2d', 'lat', 'lon', 'rect', 'start', 'end', 'duration',\n",
       "       'prior', 'prior_requests', 'prior_collisions', 'prior_traffic',\n",
       "       'start_year', 'prior_collisions4', 'evidence'],\n",
       "      dtype='object')"
      ]
     },
     "execution_count": 109,
     "metadata": {},
     "output_type": "execute_result"
    }
   ],
   "source": [
    "data.columns"
   ]
  },
  {
   "cell_type": "code",
   "execution_count": 110,
   "metadata": {},
   "outputs": [
    {
     "data": {
      "text/plain": [
       "Utilities Kingston         121\n",
       "City Engineering           110\n",
       "Transportation Services     52\n",
       "Parks and Development       24\n",
       "Transit Services             3\n",
       "Other                        2\n",
       "Name: Organization, dtype: int64"
      ]
     },
     "execution_count": 110,
     "metadata": {},
     "output_type": "execute_result"
    }
   ],
   "source": [
    "data.Organization.value_counts()"
   ]
  },
  {
   "cell_type": "code",
   "execution_count": 111,
   "metadata": {},
   "outputs": [
    {
     "data": {
      "text/plain": [
       "Water                                           64\n",
       "Mill and Pave                                   37\n",
       "Existing Parks                                  25\n",
       "Wastewater                                      24\n",
       "Gas                                             18\n",
       "Drainage Improvements                           17\n",
       "Surface Treatment                               17\n",
       "New Traffic Signal                              12\n",
       "Local Repair / Preventative Maintenance         11\n",
       "Electrical                                      10\n",
       "Sidewalk Construction                            9\n",
       "Bike Lane                                        8\n",
       "Sidewalk Rehabilitation                          7\n",
       "Traffic Calming                                  7\n",
       "Electric                                         7\n",
       "Microsurfacing                                   6\n",
       "New Road Construction                            5\n",
       "Multi-use Pathway                                4\n",
       "New Parks                                        3\n",
       "Bus Pad Construction                             3\n",
       "Pathways and Trails                              3\n",
       "Facilities                                       2\n",
       "Joint Reconstruction                             2\n",
       "Waterfront                                       2\n",
       "Intersection Improvements                        2\n",
       "Crack Sealing                                    1\n",
       "Arterial Widening                                1\n",
       "New Traffic Signal/Intersection Improvements     1\n",
       "Bridge Construction                              1\n",
       "Water/Wastewater                                 1\n",
       "Structure Replacement                            1\n",
       "Miscellaneous                                    1\n",
       "Pedestrian Crossing                              1\n",
       "Plans and Policies                               1\n",
       "Name: Program Subclass, dtype: int64"
      ]
     },
     "execution_count": 111,
     "metadata": {},
     "output_type": "execute_result"
    }
   ],
   "source": [
    "data['Program Subclass'].value_counts()"
   ]
  },
  {
   "cell_type": "code",
   "execution_count": 112,
   "metadata": {},
   "outputs": [
    {
     "data": {
      "text/plain": [
       "0      364 days 00:00:00.000000000\n",
       "1      364 days 00:00:00.000000000\n",
       "2      364 days 00:00:00.000000000\n",
       "3      364 days 00:00:00.000000000\n",
       "4      364 days 00:00:00.000000000\n",
       "                  ...             \n",
       "142    514 days 00:00:00.000000000\n",
       "143    514 days 00:00:00.000000000\n",
       "144    304 days 00:00:00.000000000\n",
       "145    362 days 00:00:00.000000000\n",
       "152    364 days 00:00:00.000000000\n",
       "Name: duration, Length: 314, dtype: object"
      ]
     },
     "execution_count": 112,
     "metadata": {},
     "output_type": "execute_result"
    }
   ],
   "source": [
    "data.duration"
   ]
  },
  {
   "cell_type": "code",
   "execution_count": 113,
   "metadata": {},
   "outputs": [
    {
     "data": {
      "text/plain": [
       "Rectangle(xmin=-76.55829693566604, ymin=44.188289663410536, xmax=-76.5313474659218, ymax=44.30410939668479)     90\n",
       "Rectangle(xmin=-76.50651751644592, ymin=44.169986523033835, xmax=-76.47926916567926, ymax=44.29120450428031)     2\n",
       "Rectangle(xmin=-76.50848622869822, ymin=44.1649296377307, xmax=-76.4769085806891, ymax=44.283498715355876)       2\n",
       "Rectangle(xmin=-76.50688508675377, ymin=44.174834072220456, xmax=-76.4755413198031, ymax=44.292648299993076)     2\n",
       "Rectangle(xmin=-76.50249078954734, ymin=44.17341531026234, xmax=-76.4707133790303, ymax=44.29119223013168)       2\n",
       "                                                                                                                ..\n",
       "Rectangle(xmin=-76.53675412698577, ymin=44.17407036538873, xmax=-76.50135033465052, ymax=44.29632519173663)      1\n",
       "Rectangle(xmin=-76.54168939106106, ymin=44.17586374268532, xmax=-76.5025519640665, ymax=44.29648438177711)       1\n",
       "Rectangle(xmin=-76.59355258435689, ymin=44.18265421019753, xmax=-76.56555168947281, ymax=44.30472846909532)      1\n",
       "Rectangle(xmin=-76.55492617976198, ymin=44.26109312914249, xmax=-76.5218827303453, ymax=44.37718252058601)       1\n",
       "Rectangle(xmin=-76.50284758093147, ymin=44.20181817111965, xmax=-76.4755411928868, ymax=44.31968022652021)       1\n",
       "Name: rect, Length: 220, dtype: int64"
      ]
     },
     "execution_count": 113,
     "metadata": {},
     "output_type": "execute_result"
    }
   ],
   "source": [
    "data.rect.value_counts()"
   ]
  },
  {
   "cell_type": "code",
   "execution_count": 114,
   "metadata": {},
   "outputs": [],
   "source": [
    "data.dropna(subset=['evidence'], inplace=True)"
   ]
  },
  {
   "cell_type": "code",
   "execution_count": 115,
   "metadata": {},
   "outputs": [],
   "source": [
    "redux = data[['Program Subclass', 'duration', 'lat', 'lon', 'evidence']].copy()"
   ]
  },
  {
   "cell_type": "code",
   "execution_count": 116,
   "metadata": {},
   "outputs": [
    {
     "data": {
      "text/html": [
       "<div>\n",
       "<style scoped>\n",
       "    .dataframe tbody tr th:only-of-type {\n",
       "        vertical-align: middle;\n",
       "    }\n",
       "\n",
       "    .dataframe tbody tr th {\n",
       "        vertical-align: top;\n",
       "    }\n",
       "\n",
       "    .dataframe thead th {\n",
       "        text-align: right;\n",
       "    }\n",
       "</style>\n",
       "<table border=\"1\" class=\"dataframe\">\n",
       "  <thead>\n",
       "    <tr style=\"text-align: right;\">\n",
       "      <th></th>\n",
       "      <th>Program Subclass</th>\n",
       "      <th>duration</th>\n",
       "      <th>lat</th>\n",
       "      <th>lon</th>\n",
       "      <th>evidence</th>\n",
       "    </tr>\n",
       "  </thead>\n",
       "  <tbody>\n",
       "    <tr>\n",
       "      <th>0</th>\n",
       "      <td>Sidewalk Rehabilitation</td>\n",
       "      <td>364 days 00:00:00.000000000</td>\n",
       "      <td>44.242363</td>\n",
       "      <td>-76.491077</td>\n",
       "      <td>0.0</td>\n",
       "    </tr>\n",
       "    <tr>\n",
       "      <th>1</th>\n",
       "      <td>Local Repair / Preventative Maintenance</td>\n",
       "      <td>364 days 00:00:00.000000000</td>\n",
       "      <td>44.217985</td>\n",
       "      <td>-76.519737</td>\n",
       "      <td>0.0</td>\n",
       "    </tr>\n",
       "    <tr>\n",
       "      <th>2</th>\n",
       "      <td>Electrical</td>\n",
       "      <td>364 days 00:00:00.000000000</td>\n",
       "      <td>44.234198</td>\n",
       "      <td>-76.483894</td>\n",
       "      <td>0.0</td>\n",
       "    </tr>\n",
       "    <tr>\n",
       "      <th>3</th>\n",
       "      <td>Electrical</td>\n",
       "      <td>364 days 00:00:00.000000000</td>\n",
       "      <td>44.232736</td>\n",
       "      <td>-76.496678</td>\n",
       "      <td>0.0</td>\n",
       "    </tr>\n",
       "    <tr>\n",
       "      <th>4</th>\n",
       "      <td>Water</td>\n",
       "      <td>364 days 00:00:00.000000000</td>\n",
       "      <td>44.254345</td>\n",
       "      <td>-76.526951</td>\n",
       "      <td>1.0</td>\n",
       "    </tr>\n",
       "    <tr>\n",
       "      <th>...</th>\n",
       "      <td>...</td>\n",
       "      <td>...</td>\n",
       "      <td>...</td>\n",
       "      <td>...</td>\n",
       "      <td>...</td>\n",
       "    </tr>\n",
       "    <tr>\n",
       "      <th>142</th>\n",
       "      <td>Drainage Improvements</td>\n",
       "      <td>514 days 00:00:00.000000000</td>\n",
       "      <td>44.349252</td>\n",
       "      <td>-76.275727</td>\n",
       "      <td>1.0</td>\n",
       "    </tr>\n",
       "    <tr>\n",
       "      <th>143</th>\n",
       "      <td>Existing Parks</td>\n",
       "      <td>514 days 00:00:00.000000000</td>\n",
       "      <td>44.278976</td>\n",
       "      <td>-76.547336</td>\n",
       "      <td>0.0</td>\n",
       "    </tr>\n",
       "    <tr>\n",
       "      <th>144</th>\n",
       "      <td>Existing Parks</td>\n",
       "      <td>304 days 00:00:00.000000000</td>\n",
       "      <td>44.226093</td>\n",
       "      <td>-76.488902</td>\n",
       "      <td>1.0</td>\n",
       "    </tr>\n",
       "    <tr>\n",
       "      <th>145</th>\n",
       "      <td>Drainage Improvements</td>\n",
       "      <td>362 days 00:00:00.000000000</td>\n",
       "      <td>44.299960</td>\n",
       "      <td>-76.540277</td>\n",
       "      <td>0.0</td>\n",
       "    </tr>\n",
       "    <tr>\n",
       "      <th>152</th>\n",
       "      <td>Electrical</td>\n",
       "      <td>364 days 00:00:00.000000000</td>\n",
       "      <td>44.221994</td>\n",
       "      <td>-76.502291</td>\n",
       "      <td>0.0</td>\n",
       "    </tr>\n",
       "  </tbody>\n",
       "</table>\n",
       "<p>313 rows × 5 columns</p>\n",
       "</div>"
      ],
      "text/plain": [
       "                            Program Subclass                     duration  \\\n",
       "0                    Sidewalk Rehabilitation  364 days 00:00:00.000000000   \n",
       "1    Local Repair / Preventative Maintenance  364 days 00:00:00.000000000   \n",
       "2                                 Electrical  364 days 00:00:00.000000000   \n",
       "3                                 Electrical  364 days 00:00:00.000000000   \n",
       "4                                      Water  364 days 00:00:00.000000000   \n",
       "..                                       ...                          ...   \n",
       "142                    Drainage Improvements  514 days 00:00:00.000000000   \n",
       "143                           Existing Parks  514 days 00:00:00.000000000   \n",
       "144                           Existing Parks  304 days 00:00:00.000000000   \n",
       "145                    Drainage Improvements  362 days 00:00:00.000000000   \n",
       "152                               Electrical  364 days 00:00:00.000000000   \n",
       "\n",
       "           lat        lon  evidence  \n",
       "0    44.242363 -76.491077       0.0  \n",
       "1    44.217985 -76.519737       0.0  \n",
       "2    44.234198 -76.483894       0.0  \n",
       "3    44.232736 -76.496678       0.0  \n",
       "4    44.254345 -76.526951       1.0  \n",
       "..         ...        ...       ...  \n",
       "142  44.349252 -76.275727       1.0  \n",
       "143  44.278976 -76.547336       0.0  \n",
       "144  44.226093 -76.488902       1.0  \n",
       "145  44.299960 -76.540277       0.0  \n",
       "152  44.221994 -76.502291       0.0  \n",
       "\n",
       "[313 rows x 5 columns]"
      ]
     },
     "execution_count": 116,
     "metadata": {},
     "output_type": "execute_result"
    }
   ],
   "source": [
    "redux"
   ]
  },
  {
   "cell_type": "code",
   "execution_count": 117,
   "metadata": {},
   "outputs": [],
   "source": [
    "import matplotlib.pyplot as plt"
   ]
  },
  {
   "cell_type": "code",
   "execution_count": 118,
   "metadata": {},
   "outputs": [
    {
     "data": {
      "image/png": "[encoded data removed]",
      "text/plain": [
       "<Figure size 432x288 with 1 Axes>"
      ]
     },
     "metadata": {
      "needs_background": "light"
     },
     "output_type": "display_data"
    }
   ],
   "source": [
    "plt.scatter(x=redux['lat'], y=redux['lon'])\n",
    "plt.show()"
   ]
  },
  {
   "cell_type": "code",
   "execution_count": 119,
   "metadata": {},
   "outputs": [],
   "source": [
    "from sklearn.cluster import KMeans"
   ]
  },
  {
   "cell_type": "code",
   "execution_count": 120,
   "metadata": {},
   "outputs": [],
   "source": [
    "sse = []\n",
    "k_min = 10\n",
    "k_max = 20\n",
    "for k in range(k_min, k_max + 1):\n",
    "    kmeans = KMeans(n_clusters=k)\n",
    "    kmeans.fit(redux[['lat', 'lon']])\n",
    "    sse.append(kmeans.inertia_)"
   ]
  },
  {
   "cell_type": "code",
   "execution_count": 121,
   "metadata": {},
   "outputs": [
    {
     "data": {
      "text/plain": [
       "[<matplotlib.lines.Line2D at 0x1bbb646b070>]"
      ]
     },
     "execution_count": 121,
     "metadata": {},
     "output_type": "execute_result"
    },
    {
     "data": {
      "image/png": "[encoded data removed]",
      "text/plain": [
       "<Figure size 432x288 with 1 Axes>"
      ]
     },
     "metadata": {
      "needs_background": "light"
     },
     "output_type": "display_data"
    }
   ],
   "source": [
    "plt.plot(range(k_min, k_max + 1), sse)"
   ]
  },
  {
   "cell_type": "code",
   "execution_count": 122,
   "metadata": {},
   "outputs": [],
   "source": [
    "from sklearn.metrics import silhouette_score"
   ]
  },
  {
   "cell_type": "code",
   "execution_count": 123,
   "metadata": {},
   "outputs": [],
   "source": [
    "sc = []\n",
    "for k in range(k_min, k_max + 1):\n",
    "    kmeans = KMeans(n_clusters=k)\n",
    "    kmeans.fit(redux[['lat', 'lon']])\n",
    "    score = silhouette_score(redux[['lat', 'lon']], kmeans.labels_)\n",
    "    sc.append(score)"
   ]
  },
  {
   "cell_type": "code",
   "execution_count": 124,
   "metadata": {},
   "outputs": [
    {
     "data": {
      "text/plain": [
       "[<matplotlib.lines.Line2D at 0x1bbb64b3f40>]"
      ]
     },
     "execution_count": 124,
     "metadata": {},
     "output_type": "execute_result"
    },
    {
     "data": {
      "image/png": "[encoded data removed]",
      "text/plain": [
       "<Figure size 432x288 with 1 Axes>"
      ]
     },
     "metadata": {
      "needs_background": "light"
     },
     "output_type": "display_data"
    }
   ],
   "source": [
    "plt.plot(range(k_min, k_max + 1), sc)"
   ]
  },
  {
   "cell_type": "code",
   "execution_count": 125,
   "metadata": {},
   "outputs": [
    {
     "name": "stdout",
     "output_type": "stream",
     "text": [
      "14\n"
     ]
    }
   ],
   "source": [
    "k = sc.index(max(sc)) + k_min\n",
    "print(k)"
   ]
  },
  {
   "cell_type": "code",
   "execution_count": 126,
   "metadata": {},
   "outputs": [
    {
     "data": {
      "text/plain": [
       "KMeans(n_clusters=14)"
      ]
     },
     "execution_count": 126,
     "metadata": {},
     "output_type": "execute_result"
    }
   ],
   "source": [
    "kmeans = KMeans(n_clusters=k)\n",
    "kmeans.fit(redux[['lat', 'lon']])"
   ]
  },
  {
   "cell_type": "code",
   "execution_count": 127,
   "metadata": {},
   "outputs": [
    {
     "data": {
      "text/plain": [
       "array([ 0,  6,  0,  0,  6, 11,  6,  6,  0,  0, 13, 13,  9,  6, 13,  0,  9,\n",
       "       13,  6,  0,  6,  6,  6, 13,  6, 13, 11,  2,  9,  6,  6,  0,  2,  0,\n",
       "        6,  6,  9,  6,  2,  6,  8,  6,  0,  9,  9,  6,  0,  0,  0,  9,  0,\n",
       "        2,  0, 11, 12,  6, 11, 13,  0,  2, 13, 11, 11,  2,  2,  2,  2,  9,\n",
       "        2, 11, 11,  2,  0,  6,  9,  1, 11,  0,  6,  6,  9,  4, 13,  2,  1,\n",
       "        9, 11,  0,  6, 11,  6,  6, 11,  6,  9,  6,  0,  8,  0,  9,  0, 13,\n",
       "        0,  7, 10,  6,  0,  6,  0, 13,  8,  6, 13,  4, 12, 11, 11,  2,  0,\n",
       "        9,  8, 13,  8,  0,  4,  9, 11, 13,  2,  6,  6,  8, 10,  2,  6,  2,\n",
       "       11, 11,  0,  0,  0,  1,  5,  3,  1,  8,  9,  2,  2, 13, 10,  2,  2,\n",
       "        6,  8,  6,  0,  6,  9,  6,  6,  2,  0,  9,  0,  6,  0,  2,  2,  2,\n",
       "        0,  6,  6,  2, 11,  6,  6,  0,  6,  6,  2,  6, 13, 11,  0,  6, 11,\n",
       "        6,  0,  6, 11,  0,  0,  2,  6, 11, 13,  6, 12, 11,  8,  2,  6,  0,\n",
       "        6,  9,  6,  9,  2,  6, 11,  0,  0,  0,  6, 13, 11,  0,  6,  6,  6,\n",
       "        0, 11,  6,  0,  8,  0,  2,  6,  0,  8,  0,  2,  9,  0,  0,  6,  2,\n",
       "       13,  2,  5, 11,  9,  6,  8,  8,  8,  0, 13,  0,  2,  9,  7, 11, 11,\n",
       "        3,  4, 10, 13, 13,  2, 11,  0,  0, 13,  9, 13, 11,  2,  0,  0, 11,\n",
       "       13, 13,  6, 11, 10,  2,  5,  0,  4, 12, 13, 13,  2,  9,  9,  0,  0,\n",
       "        2,  9,  6,  6,  5, 13, 13,  7,  0,  0,  9, 11, 13, 10,  9,  0,  0,\n",
       "        9,  6, 12, 11,  0,  4,  0])"
      ]
     },
     "execution_count": 127,
     "metadata": {},
     "output_type": "execute_result"
    }
   ],
   "source": [
    "kmeans.labels_"
   ]
  },
  {
   "cell_type": "code",
   "execution_count": 128,
   "metadata": {},
   "outputs": [],
   "source": [
    "redux['centroid'] = kmeans.labels_\n",
    "redux['centroid'] = redux.centroid.astype(str)"
   ]
  },
  {
   "cell_type": "code",
   "execution_count": 129,
   "metadata": {},
   "outputs": [],
   "source": [
    "redux.drop(['lat', 'lon'], inplace=True, axis=1)"
   ]
  },
  {
   "cell_type": "code",
   "execution_count": 130,
   "metadata": {},
   "outputs": [
    {
     "data": {
      "text/html": [
       "<div>\n",
       "<style scoped>\n",
       "    .dataframe tbody tr th:only-of-type {\n",
       "        vertical-align: middle;\n",
       "    }\n",
       "\n",
       "    .dataframe tbody tr th {\n",
       "        vertical-align: top;\n",
       "    }\n",
       "\n",
       "    .dataframe thead th {\n",
       "        text-align: right;\n",
       "    }\n",
       "</style>\n",
       "<table border=\"1\" class=\"dataframe\">\n",
       "  <thead>\n",
       "    <tr style=\"text-align: right;\">\n",
       "      <th></th>\n",
       "      <th>Program Subclass</th>\n",
       "      <th>duration</th>\n",
       "      <th>evidence</th>\n",
       "      <th>centroid</th>\n",
       "    </tr>\n",
       "  </thead>\n",
       "  <tbody>\n",
       "    <tr>\n",
       "      <th>0</th>\n",
       "      <td>Sidewalk Rehabilitation</td>\n",
       "      <td>364 days 00:00:00.000000000</td>\n",
       "      <td>0.0</td>\n",
       "      <td>0</td>\n",
       "    </tr>\n",
       "    <tr>\n",
       "      <th>1</th>\n",
       "      <td>Local Repair / Preventative Maintenance</td>\n",
       "      <td>364 days 00:00:00.000000000</td>\n",
       "      <td>0.0</td>\n",
       "      <td>6</td>\n",
       "    </tr>\n",
       "    <tr>\n",
       "      <th>2</th>\n",
       "      <td>Electrical</td>\n",
       "      <td>364 days 00:00:00.000000000</td>\n",
       "      <td>0.0</td>\n",
       "      <td>0</td>\n",
       "    </tr>\n",
       "    <tr>\n",
       "      <th>3</th>\n",
       "      <td>Electrical</td>\n",
       "      <td>364 days 00:00:00.000000000</td>\n",
       "      <td>0.0</td>\n",
       "      <td>0</td>\n",
       "    </tr>\n",
       "    <tr>\n",
       "      <th>4</th>\n",
       "      <td>Water</td>\n",
       "      <td>364 days 00:00:00.000000000</td>\n",
       "      <td>1.0</td>\n",
       "      <td>6</td>\n",
       "    </tr>\n",
       "    <tr>\n",
       "      <th>...</th>\n",
       "      <td>...</td>\n",
       "      <td>...</td>\n",
       "      <td>...</td>\n",
       "      <td>...</td>\n",
       "    </tr>\n",
       "    <tr>\n",
       "      <th>142</th>\n",
       "      <td>Drainage Improvements</td>\n",
       "      <td>514 days 00:00:00.000000000</td>\n",
       "      <td>1.0</td>\n",
       "      <td>12</td>\n",
       "    </tr>\n",
       "    <tr>\n",
       "      <th>143</th>\n",
       "      <td>Existing Parks</td>\n",
       "      <td>514 days 00:00:00.000000000</td>\n",
       "      <td>0.0</td>\n",
       "      <td>11</td>\n",
       "    </tr>\n",
       "    <tr>\n",
       "      <th>144</th>\n",
       "      <td>Existing Parks</td>\n",
       "      <td>304 days 00:00:00.000000000</td>\n",
       "      <td>1.0</td>\n",
       "      <td>0</td>\n",
       "    </tr>\n",
       "    <tr>\n",
       "      <th>145</th>\n",
       "      <td>Drainage Improvements</td>\n",
       "      <td>362 days 00:00:00.000000000</td>\n",
       "      <td>0.0</td>\n",
       "      <td>4</td>\n",
       "    </tr>\n",
       "    <tr>\n",
       "      <th>152</th>\n",
       "      <td>Electrical</td>\n",
       "      <td>364 days 00:00:00.000000000</td>\n",
       "      <td>0.0</td>\n",
       "      <td>0</td>\n",
       "    </tr>\n",
       "  </tbody>\n",
       "</table>\n",
       "<p>313 rows × 4 columns</p>\n",
       "</div>"
      ],
      "text/plain": [
       "                            Program Subclass                     duration  \\\n",
       "0                    Sidewalk Rehabilitation  364 days 00:00:00.000000000   \n",
       "1    Local Repair / Preventative Maintenance  364 days 00:00:00.000000000   \n",
       "2                                 Electrical  364 days 00:00:00.000000000   \n",
       "3                                 Electrical  364 days 00:00:00.000000000   \n",
       "4                                      Water  364 days 00:00:00.000000000   \n",
       "..                                       ...                          ...   \n",
       "142                    Drainage Improvements  514 days 00:00:00.000000000   \n",
       "143                           Existing Parks  514 days 00:00:00.000000000   \n",
       "144                           Existing Parks  304 days 00:00:00.000000000   \n",
       "145                    Drainage Improvements  362 days 00:00:00.000000000   \n",
       "152                               Electrical  364 days 00:00:00.000000000   \n",
       "\n",
       "     evidence centroid  \n",
       "0         0.0        0  \n",
       "1         0.0        6  \n",
       "2         0.0        0  \n",
       "3         0.0        0  \n",
       "4         1.0        6  \n",
       "..        ...      ...  \n",
       "142       1.0       12  \n",
       "143       0.0       11  \n",
       "144       1.0        0  \n",
       "145       0.0        4  \n",
       "152       0.0        0  \n",
       "\n",
       "[313 rows x 4 columns]"
      ]
     },
     "execution_count": 130,
     "metadata": {},
     "output_type": "execute_result"
    }
   ],
   "source": [
    "redux"
   ]
  },
  {
   "cell_type": "code",
   "execution_count": 131,
   "metadata": {},
   "outputs": [],
   "source": [
    "redux.duration = redux.duration.map(lambda val: int(val.split(' ')[0]))\n",
    "max_duration = redux.duration.max()\n",
    "min_duration = redux.duration.min()\n",
    "redux.duration = redux.duration.map(lambda dur: (dur - min_duration) / (max_duration - min_duration))"
   ]
  },
  {
   "cell_type": "code",
   "execution_count": 132,
   "metadata": {},
   "outputs": [
    {
     "data": {
      "text/html": [
       "<div>\n",
       "<style scoped>\n",
       "    .dataframe tbody tr th:only-of-type {\n",
       "        vertical-align: middle;\n",
       "    }\n",
       "\n",
       "    .dataframe tbody tr th {\n",
       "        vertical-align: top;\n",
       "    }\n",
       "\n",
       "    .dataframe thead th {\n",
       "        text-align: right;\n",
       "    }\n",
       "</style>\n",
       "<table border=\"1\" class=\"dataframe\">\n",
       "  <thead>\n",
       "    <tr style=\"text-align: right;\">\n",
       "      <th></th>\n",
       "      <th>Program Subclass</th>\n",
       "      <th>duration</th>\n",
       "      <th>evidence</th>\n",
       "      <th>centroid</th>\n",
       "    </tr>\n",
       "  </thead>\n",
       "  <tbody>\n",
       "    <tr>\n",
       "      <th>0</th>\n",
       "      <td>Sidewalk Rehabilitation</td>\n",
       "      <td>0.225715</td>\n",
       "      <td>0.0</td>\n",
       "      <td>0</td>\n",
       "    </tr>\n",
       "    <tr>\n",
       "      <th>1</th>\n",
       "      <td>Local Repair / Preventative Maintenance</td>\n",
       "      <td>0.225715</td>\n",
       "      <td>0.0</td>\n",
       "      <td>6</td>\n",
       "    </tr>\n",
       "    <tr>\n",
       "      <th>2</th>\n",
       "      <td>Electrical</td>\n",
       "      <td>0.225715</td>\n",
       "      <td>0.0</td>\n",
       "      <td>0</td>\n",
       "    </tr>\n",
       "    <tr>\n",
       "      <th>3</th>\n",
       "      <td>Electrical</td>\n",
       "      <td>0.225715</td>\n",
       "      <td>0.0</td>\n",
       "      <td>0</td>\n",
       "    </tr>\n",
       "    <tr>\n",
       "      <th>4</th>\n",
       "      <td>Water</td>\n",
       "      <td>0.225715</td>\n",
       "      <td>1.0</td>\n",
       "      <td>6</td>\n",
       "    </tr>\n",
       "    <tr>\n",
       "      <th>...</th>\n",
       "      <td>...</td>\n",
       "      <td>...</td>\n",
       "      <td>...</td>\n",
       "      <td>...</td>\n",
       "    </tr>\n",
       "    <tr>\n",
       "      <th>142</th>\n",
       "      <td>Drainage Improvements</td>\n",
       "      <td>0.278700</td>\n",
       "      <td>1.0</td>\n",
       "      <td>12</td>\n",
       "    </tr>\n",
       "    <tr>\n",
       "      <th>143</th>\n",
       "      <td>Existing Parks</td>\n",
       "      <td>0.278700</td>\n",
       "      <td>0.0</td>\n",
       "      <td>11</td>\n",
       "    </tr>\n",
       "    <tr>\n",
       "      <th>144</th>\n",
       "      <td>Existing Parks</td>\n",
       "      <td>0.204521</td>\n",
       "      <td>1.0</td>\n",
       "      <td>0</td>\n",
       "    </tr>\n",
       "    <tr>\n",
       "      <th>145</th>\n",
       "      <td>Drainage Improvements</td>\n",
       "      <td>0.225009</td>\n",
       "      <td>0.0</td>\n",
       "      <td>4</td>\n",
       "    </tr>\n",
       "    <tr>\n",
       "      <th>152</th>\n",
       "      <td>Electrical</td>\n",
       "      <td>0.225715</td>\n",
       "      <td>0.0</td>\n",
       "      <td>0</td>\n",
       "    </tr>\n",
       "  </tbody>\n",
       "</table>\n",
       "<p>313 rows × 4 columns</p>\n",
       "</div>"
      ],
      "text/plain": [
       "                            Program Subclass  duration  evidence centroid\n",
       "0                    Sidewalk Rehabilitation  0.225715       0.0        0\n",
       "1    Local Repair / Preventative Maintenance  0.225715       0.0        6\n",
       "2                                 Electrical  0.225715       0.0        0\n",
       "3                                 Electrical  0.225715       0.0        0\n",
       "4                                      Water  0.225715       1.0        6\n",
       "..                                       ...       ...       ...      ...\n",
       "142                    Drainage Improvements  0.278700       1.0       12\n",
       "143                           Existing Parks  0.278700       0.0       11\n",
       "144                           Existing Parks  0.204521       1.0        0\n",
       "145                    Drainage Improvements  0.225009       0.0        4\n",
       "152                               Electrical  0.225715       0.0        0\n",
       "\n",
       "[313 rows x 4 columns]"
      ]
     },
     "execution_count": 132,
     "metadata": {},
     "output_type": "execute_result"
    }
   ],
   "source": [
    "redux"
   ]
  },
  {
   "cell_type": "code",
   "execution_count": 133,
   "metadata": {},
   "outputs": [],
   "source": [
    "final = pd.get_dummies(redux).copy()"
   ]
  },
  {
   "cell_type": "code",
   "execution_count": 134,
   "metadata": {},
   "outputs": [
    {
     "data": {
      "text/plain": [
       "duration                                                         0\n",
       "evidence                                                         0\n",
       "Program Subclass_Arterial Widening                               0\n",
       "Program Subclass_Bike Lane                                       0\n",
       "Program Subclass_Bridge Construction                             0\n",
       "Program Subclass_Bus Pad Construction                            0\n",
       "Program Subclass_Crack Sealing                                   0\n",
       "Program Subclass_Drainage Improvements                           0\n",
       "Program Subclass_Electric                                        0\n",
       "Program Subclass_Electrical                                      0\n",
       "Program Subclass_Existing Parks                                  0\n",
       "Program Subclass_Facilities                                      0\n",
       "Program Subclass_Gas                                             0\n",
       "Program Subclass_Intersection Improvements                       0\n",
       "Program Subclass_Joint Reconstruction                            0\n",
       "Program Subclass_Local Repair / Preventative Maintenance         0\n",
       "Program Subclass_Microsurfacing                                  0\n",
       "Program Subclass_Mill and Pave                                   0\n",
       "Program Subclass_Miscellaneous                                   0\n",
       "Program Subclass_Multi-use Pathway                               0\n",
       "Program Subclass_New Parks                                       0\n",
       "Program Subclass_New Road Construction                           0\n",
       "Program Subclass_New Traffic Signal                              0\n",
       "Program Subclass_New Traffic Signal/Intersection Improvements    0\n",
       "Program Subclass_Pathways and Trails                             0\n",
       "Program Subclass_Pedestrian Crossing                             0\n",
       "Program Subclass_Plans and Policies                              0\n",
       "Program Subclass_Sidewalk Construction                           0\n",
       "Program Subclass_Sidewalk Rehabilitation                         0\n",
       "Program Subclass_Structure Replacement                           0\n",
       "Program Subclass_Surface Treatment                               0\n",
       "Program Subclass_Traffic Calming                                 0\n",
       "Program Subclass_Wastewater                                      0\n",
       "Program Subclass_Water                                           0\n",
       "Program Subclass_Water/Wastewater                                0\n",
       "Program Subclass_Waterfront                                      0\n",
       "centroid_0                                                       0\n",
       "centroid_1                                                       0\n",
       "centroid_10                                                      0\n",
       "centroid_11                                                      0\n",
       "centroid_12                                                      0\n",
       "centroid_13                                                      0\n",
       "centroid_2                                                       0\n",
       "centroid_3                                                       0\n",
       "centroid_4                                                       0\n",
       "centroid_5                                                       0\n",
       "centroid_6                                                       0\n",
       "centroid_7                                                       0\n",
       "centroid_8                                                       0\n",
       "centroid_9                                                       0\n",
       "dtype: int64"
      ]
     },
     "execution_count": 134,
     "metadata": {},
     "output_type": "execute_result"
    }
   ],
   "source": [
    "final.isna().sum()"
   ]
  },
  {
   "cell_type": "code",
   "execution_count": 135,
   "metadata": {},
   "outputs": [],
   "source": [
    "X = final.drop('evidence', axis=1)\n",
    "y = final['evidence']"
   ]
  },
  {
   "cell_type": "code",
   "execution_count": 136,
   "metadata": {},
   "outputs": [],
   "source": [
    "from sklearn.model_selection import train_test_split"
   ]
  },
  {
   "cell_type": "code",
   "execution_count": 137,
   "metadata": {},
   "outputs": [],
   "source": [
    "X_train, X_test, y_train, y_test = train_test_split(X, y, test_size=0.3, stratify=y)"
   ]
  },
  {
   "cell_type": "code",
   "execution_count": 138,
   "metadata": {},
   "outputs": [],
   "source": [
    "from sklearn.linear_model import LogisticRegression"
   ]
  },
  {
   "cell_type": "code",
   "execution_count": 139,
   "metadata": {},
   "outputs": [
    {
     "data": {
      "text/plain": [
       "LogisticRegression()"
      ]
     },
     "execution_count": 139,
     "metadata": {},
     "output_type": "execute_result"
    }
   ],
   "source": [
    "lr = LogisticRegression()\n",
    "lr.fit(X_train, y_train)"
   ]
  },
  {
   "cell_type": "code",
   "execution_count": 140,
   "metadata": {},
   "outputs": [
    {
     "data": {
      "text/plain": [
       "0.7446808510638298"
      ]
     },
     "execution_count": 140,
     "metadata": {},
     "output_type": "execute_result"
    }
   ],
   "source": [
    "lr.score(X_test, y_test)"
   ]
  },
  {
   "cell_type": "code",
   "execution_count": null,
   "metadata": {},
   "outputs": [],
   "source": []
  }
 ],
 "metadata": {
  "interpreter": {
   "hash": "1baa965d5efe3ac65b79dfc60c0d706280b1da80fedb7760faf2759126c4f253"
  },
  "kernelspec": {
   "display_name": "Python 3.8.1 64-bit",
   "language": "python",
   "name": "python3"
  },
  "language_info": {
   "codemirror_mode": {
    "name": "ipython",
    "version": 3
   },
   "file_extension": ".py",
   "mimetype": "text/x-python",
   "name": "python",
   "nbconvert_exporter": "python",
   "pygments_lexer": "ipython3",
   "version": "3.8.1"
  },
  "orig_nbformat": 4
 },
 "nbformat": 4,
 "nbformat_minor": 2
}
